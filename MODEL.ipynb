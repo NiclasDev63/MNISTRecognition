{
 "cells": [
  {
   "cell_type": "code",
   "execution_count": 1,
   "id": "5560d931",
   "metadata": {},
   "outputs": [],
   "source": [
    "var math = require(\"C:/Users/nicla/AppData/Roaming/npm/node_modules/mathjs\")"
   ]
  },
  {
   "cell_type": "code",
   "execution_count": 122,
   "id": "e494f1b3",
   "metadata": {},
   "outputs": [
    {
     "data": {
      "text/plain": [
       "[Function (anonymous)]"
      ]
     },
     "execution_count": 122,
     "metadata": {},
     "output_type": "execute_result"
    }
   ],
   "source": [
    "function Layer(inputDim, activation, useBias){\n",
    "    this.inputDim = inputDim\n",
    "    this.activation = activation\n",
    "    this.useBias = useBias\n",
    "    this.weights;\n",
    "    this.bias;\n",
    "}\n",
    "\n",
    "Layer.prototype.addLayer = function() {\n",
    "    \n",
    "}"
   ]
  },
  {
   "cell_type": "code",
   "execution_count": null,
   "id": "428786e3",
   "metadata": {},
   "outputs": [],
   "source": []
  }
 ],
 "metadata": {
  "kernelspec": {
   "display_name": "JavaScript (Node.js)",
   "language": "javascript",
   "name": "javascript"
  },
  "language_info": {
   "file_extension": ".js",
   "mimetype": "application/javascript",
   "name": "javascript",
   "version": "16.15.1"
  }
 },
 "nbformat": 4,
 "nbformat_minor": 5
}
